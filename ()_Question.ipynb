{
 "cells": [
  {
   "cell_type": "code",
   "execution_count": 17,
   "metadata": {},
   "outputs": [],
   "source": [
    "def genParanthesis(openB, closeB, n, s=[]):\n",
    "    #base case\n",
    "    if(closeB==n):\n",
    "        print(''.join(s))\n",
    "        return\n",
    "    else:\n",
    "        if(openB>closeB):\n",
    "            # open bracket or close bracket\n",
    "            s.append(\")\")\n",
    "            genParanthesis(openB, closeB+1, n,s)\n",
    "            s.pop()\n",
    "        if(openB<n):\n",
    "            s.append(\"(\")\n",
    "            genParanthesis(openB+1, closeB,n,s)\n",
    "            s.pop()\n",
    "    return"
   ]
  },
  {
   "cell_type": "code",
   "execution_count": 20,
   "metadata": {},
   "outputs": [
    {
     "name": "stdout",
     "output_type": "stream",
     "text": [
      "4\n",
      "()()()()\n",
      "()()(())\n",
      "()(())()\n",
      "()(()())\n",
      "()((()))\n",
      "(())()()\n",
      "(())(())\n",
      "(()())()\n",
      "(()()())\n",
      "(()(()))\n",
      "((()))()\n",
      "((())())\n",
      "((()()))\n",
      "(((())))\n"
     ]
    }
   ],
   "source": [
    "n = int(input())\n",
    "genParanthesis(0,0,n)"
   ]
  },
  {
   "cell_type": "code",
   "execution_count": null,
   "metadata": {},
   "outputs": [],
   "source": []
  }
 ],
 "metadata": {
  "kernelspec": {
   "display_name": "Python 3",
   "language": "python",
   "name": "python3"
  },
  "language_info": {
   "codemirror_mode": {
    "name": "ipython",
    "version": 3
   },
   "file_extension": ".py",
   "mimetype": "text/x-python",
   "name": "python",
   "nbconvert_exporter": "python",
   "pygments_lexer": "ipython3",
   "version": "3.8.5"
  }
 },
 "nbformat": 4,
 "nbformat_minor": 4
}
